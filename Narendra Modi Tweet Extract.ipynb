{
 "cells": [
  {
   "cell_type": "code",
   "execution_count": 6,
   "metadata": {},
   "outputs": [],
   "source": [
    "import os\n",
    "import pandas as pd\n",
    "import numpy as np\n",
    "\n",
    "path= r\"C:\\Users\\Lenovo\\Desktop\\Cars\"\n",
    "os.chdir(path)\n",
    "os.listdir(path)\n",
    "tweet = pd.read_excel(\"narendramodi_tweets.xlsx\")"
   ]
  },
  {
   "cell_type": "code",
   "execution_count": 2,
   "metadata": {},
   "outputs": [],
   "source": [
    "import string\n",
    "import nltk\n",
    "from sklearn.feature_extraction.text import CountVectorizer\n",
    "from matplotlib import pyplot as plt"
   ]
  },
  {
   "cell_type": "code",
   "execution_count": 5,
   "metadata": {},
   "outputs": [
    {
     "name": "stderr",
     "output_type": "stream",
     "text": [
      "[nltk_data] Downloading package stopwords to\n",
      "[nltk_data]     C:\\Users\\Lenovo\\AppData\\Roaming\\nltk_data...\n",
      "[nltk_data]   Unzipping corpora\\stopwords.zip.\n"
     ]
    }
   ],
   "source": [
    "#nltk.download('stopwords')\n",
    "from nltk.corpus import stopwords"
   ]
  },
  {
   "cell_type": "code",
   "execution_count": 10,
   "metadata": {},
   "outputs": [
    {
     "name": "stdout",
     "output_type": "stream",
     "text": [
      "The President's address wonderfully encapsulated India's strengths, aspirations, potential &amp; the efforts towards #TransformingIndia.\n"
     ]
    }
   ],
   "source": [
    "text=tweet[['text']]    #Lets start\n",
    "text.head(2)\n",
    "print(text['text'][0]) #to read first tweet"
   ]
  },
  {
   "cell_type": "code",
   "execution_count": 11,
   "metadata": {},
   "outputs": [
    {
     "name": "stderr",
     "output_type": "stream",
     "text": [
      "C:\\Users\\Lenovo\\Anaconda3\\lib\\site-packages\\ipykernel_launcher.py:4: SettingWithCopyWarning: \n",
      "A value is trying to be set on a copy of a slice from a DataFrame.\n",
      "Try using .loc[row_indexer,col_indexer] = value instead\n",
      "\n",
      "See the caveats in the documentation: http://pandas.pydata.org/pandas-docs/stable/indexing.html#indexing-view-versus-copy\n",
      "  after removing the cwd from sys.path.\n"
     ]
    },
    {
     "data": {
      "text/html": [
       "<div>\n",
       "<style scoped>\n",
       "    .dataframe tbody tr th:only-of-type {\n",
       "        vertical-align: middle;\n",
       "    }\n",
       "\n",
       "    .dataframe tbody tr th {\n",
       "        vertical-align: top;\n",
       "    }\n",
       "\n",
       "    .dataframe thead th {\n",
       "        text-align: right;\n",
       "    }\n",
       "</style>\n",
       "<table border=\"1\" class=\"dataframe\">\n",
       "  <thead>\n",
       "    <tr style=\"text-align: right;\">\n",
       "      <th></th>\n",
       "      <th>text</th>\n",
       "      <th>count</th>\n",
       "    </tr>\n",
       "  </thead>\n",
       "  <tbody>\n",
       "    <tr>\n",
       "      <th>0</th>\n",
       "      <td>The President's address wonderfully encapsulat...</td>\n",
       "      <td>14</td>\n",
       "    </tr>\n",
       "    <tr>\n",
       "      <th>1</th>\n",
       "      <td>Rashtrapati Ji's address to both Houses of Par...</td>\n",
       "      <td>16</td>\n",
       "    </tr>\n",
       "    <tr>\n",
       "      <th>2</th>\n",
       "      <td>RT @PMOIndia: Empowering the marginalised. htt...</td>\n",
       "      <td>6</td>\n",
       "    </tr>\n",
       "    <tr>\n",
       "      <th>3</th>\n",
       "      <td>RT @PMOIndia: Commitment to welfare of farmers...</td>\n",
       "      <td>8</td>\n",
       "    </tr>\n",
       "    <tr>\n",
       "      <th>4</th>\n",
       "      <td>RT @PMOIndia: Improving the quality of life fo...</td>\n",
       "      <td>11</td>\n",
       "    </tr>\n",
       "  </tbody>\n",
       "</table>\n",
       "</div>"
      ],
      "text/plain": [
       "                                                text  count\n",
       "0  The President's address wonderfully encapsulat...     14\n",
       "1  Rashtrapati Ji's address to both Houses of Par...     16\n",
       "2  RT @PMOIndia: Empowering the marginalised. htt...      6\n",
       "3  RT @PMOIndia: Commitment to welfare of farmers...      8\n",
       "4  RT @PMOIndia: Improving the quality of life fo...     11"
      ]
     },
     "execution_count": 11,
     "metadata": {},
     "output_type": "execute_result"
    }
   ],
   "source": [
    "##Number of words in each row\n",
    "\n",
    "\n",
    "text['count']=text['text'].apply(lambda x: len(str(x).split(\" \")))\n",
    "text.head()"
   ]
  },
  {
   "cell_type": "code",
   "execution_count": 12,
   "metadata": {},
   "outputs": [
    {
     "name": "stderr",
     "output_type": "stream",
     "text": [
      "C:\\Users\\Lenovo\\Anaconda3\\lib\\site-packages\\ipykernel_launcher.py:3: SettingWithCopyWarning: \n",
      "A value is trying to be set on a copy of a slice from a DataFrame.\n",
      "Try using .loc[row_indexer,col_indexer] = value instead\n",
      "\n",
      "See the caveats in the documentation: http://pandas.pydata.org/pandas-docs/stable/indexing.html#indexing-view-versus-copy\n",
      "  This is separate from the ipykernel package so we can avoid doing imports until\n"
     ]
    },
    {
     "data": {
      "text/html": [
       "<div>\n",
       "<style scoped>\n",
       "    .dataframe tbody tr th:only-of-type {\n",
       "        vertical-align: middle;\n",
       "    }\n",
       "\n",
       "    .dataframe tbody tr th {\n",
       "        vertical-align: top;\n",
       "    }\n",
       "\n",
       "    .dataframe thead th {\n",
       "        text-align: right;\n",
       "    }\n",
       "</style>\n",
       "<table border=\"1\" class=\"dataframe\">\n",
       "  <thead>\n",
       "    <tr style=\"text-align: right;\">\n",
       "      <th></th>\n",
       "      <th>text</th>\n",
       "      <th>count</th>\n",
       "      <th>clean_text</th>\n",
       "    </tr>\n",
       "  </thead>\n",
       "  <tbody>\n",
       "    <tr>\n",
       "      <th>0</th>\n",
       "      <td>The President's address wonderfully encapsulat...</td>\n",
       "      <td>14</td>\n",
       "      <td>the presidents address wonderfully encapsulate...</td>\n",
       "    </tr>\n",
       "    <tr>\n",
       "      <th>1</th>\n",
       "      <td>Rashtrapati Ji's address to both Houses of Par...</td>\n",
       "      <td>16</td>\n",
       "      <td>rashtrapati jis address to both houses of parl...</td>\n",
       "    </tr>\n",
       "    <tr>\n",
       "      <th>2</th>\n",
       "      <td>RT @PMOIndia: Empowering the marginalised. htt...</td>\n",
       "      <td>6</td>\n",
       "      <td>rt pmoindia empowering the marginalised httpst...</td>\n",
       "    </tr>\n",
       "    <tr>\n",
       "      <th>3</th>\n",
       "      <td>RT @PMOIndia: Commitment to welfare of farmers...</td>\n",
       "      <td>8</td>\n",
       "      <td>rt pmoindia commitment to welfare of farmers h...</td>\n",
       "    </tr>\n",
       "    <tr>\n",
       "      <th>4</th>\n",
       "      <td>RT @PMOIndia: Improving the quality of life fo...</td>\n",
       "      <td>11</td>\n",
       "      <td>rt pmoindia improving the quality of life for ...</td>\n",
       "    </tr>\n",
       "  </tbody>\n",
       "</table>\n",
       "</div>"
      ],
      "text/plain": [
       "                                                text  count  \\\n",
       "0  The President's address wonderfully encapsulat...     14   \n",
       "1  Rashtrapati Ji's address to both Houses of Par...     16   \n",
       "2  RT @PMOIndia: Empowering the marginalised. htt...      6   \n",
       "3  RT @PMOIndia: Commitment to welfare of farmers...      8   \n",
       "4  RT @PMOIndia: Improving the quality of life fo...     11   \n",
       "\n",
       "                                          clean_text  \n",
       "0  the presidents address wonderfully encapsulate...  \n",
       "1  rashtrapati jis address to both houses of parl...  \n",
       "2  rt pmoindia empowering the marginalised httpst...  \n",
       "3  rt pmoindia commitment to welfare of farmers h...  \n",
       "4  rt pmoindia improving the quality of life for ...  "
      ]
     },
     "execution_count": 12,
     "metadata": {},
     "output_type": "execute_result"
    }
   ],
   "source": [
    "# Step 1 and Step 2  and Step3====Converting text in lower case and removing special characters!!! \n",
    "\n",
    "text['clean_text']=text['text'].str.lower().str.replace('[^a-z ]', '')\n",
    "text.head()"
   ]
  },
  {
   "cell_type": "code",
   "execution_count": 21,
   "metadata": {},
   "outputs": [
    {
     "name": "stdout",
     "output_type": "stream",
     "text": [
      "the presidents address wonderfully encapsulated indias strengths aspirations potential amp the efforts towards transformingindia\n",
      "presidents address wonderfully encapsulated indias strengths aspirations potential efforts towards transformingindia\n"
     ]
    }
   ],
   "source": [
    "##Step4=Removing the stopwords\n",
    "\n",
    "stop=stopwords.words('english')\n",
    "\n",
    "stop.extend(['amp','modi','narendra','pmo'])\n",
    "\n",
    "\n",
    "\n",
    "def sw(text):\n",
    "    text=[word for word in text.split() if word not in stop]\n",
    "    return\" \".join(text)\n",
    "\n",
    "#Appplying the sw on clean_text colum\n",
    "\n",
    "text['text_without_stop']=text['clean_text'].apply(sw)\n",
    "\n",
    "print(text[\"clean_text\"][0])\n",
    "print(text[\"text_without_stop\"][0])\n"
   ]
  },
  {
   "cell_type": "code",
   "execution_count": 20,
   "metadata": {},
   "outputs": [],
   "source": [
    "##to remove warnings\n",
    "import warnings\n",
    "warnings.filterwarnings(\"ignore\")"
   ]
  },
  {
   "cell_type": "code",
   "execution_count": 24,
   "metadata": {},
   "outputs": [
    {
     "data": {
      "text/plain": [
       "CountVectorizer(analyzer='word', binary=False, decode_error='strict',\n",
       "        dtype=<class 'numpy.int64'>, encoding='utf-8', input='content',\n",
       "        lowercase=True, max_df=1.0, max_features=None, min_df=1,\n",
       "        ngram_range=(1, 1), preprocessor=None, stop_words=None,\n",
       "        strip_accents=None, token_pattern='(?u)\\\\b\\\\w\\\\w+\\\\b',\n",
       "        tokenizer=None, vocabulary=None)"
      ]
     },
     "execution_count": 24,
     "metadata": {},
     "output_type": "execute_result"
    }
   ],
   "source": [
    "# Starting the count vector\n",
    "\n",
    "\n",
    "vec=CountVectorizer()\n",
    "vec.fit(text['text_without_stop'])"
   ]
  },
  {
   "cell_type": "code",
   "execution_count": 25,
   "metadata": {},
   "outputs": [
    {
     "data": {
      "text/plain": [
       "<2987x8584 sparse matrix of type '<class 'numpy.int64'>'\n",
       "\twith 31994 stored elements in Compressed Sparse Row format>"
      ]
     },
     "execution_count": 25,
     "metadata": {},
     "output_type": "execute_result"
    }
   ],
   "source": [
    "##DTM matrix\n",
    "\n",
    "x=vec.fit_transform(text['text_without_stop'])\n",
    "x"
   ]
  },
  {
   "cell_type": "code",
   "execution_count": 31,
   "metadata": {},
   "outputs": [
    {
     "data": {
      "text/plain": [
       "rt          573\n",
       "india       365\n",
       "people      203\n",
       "pm          169\n",
       "pmoindia    145\n",
       "dtype: int64"
      ]
     },
     "execution_count": 31,
     "metadata": {},
     "output_type": "execute_result"
    }
   ],
   "source": [
    "##Last Step ##Convert this DTM into Data Frame\n",
    "\n",
    "DTM = pd.DataFrame(x.toarray(),   columns=vec.get_feature_names())\n",
    "DTM.head()\n",
    "\n",
    "#Calculating the word freq\n",
    "word_freq=DTM.sum()\n",
    "word_freq.sort_values(ascending=False).head()"
   ]
  }
 ],
 "metadata": {
  "kernelspec": {
   "display_name": "Python 3",
   "language": "python",
   "name": "python3"
  },
  "language_info": {
   "codemirror_mode": {
    "name": "ipython",
    "version": 3
   },
   "file_extension": ".py",
   "mimetype": "text/x-python",
   "name": "python",
   "nbconvert_exporter": "python",
   "pygments_lexer": "ipython3",
   "version": "3.7.1"
  }
 },
 "nbformat": 4,
 "nbformat_minor": 2
}
